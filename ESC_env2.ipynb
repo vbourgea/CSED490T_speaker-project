{
 "cells": [
  {
   "cell_type": "code",
   "execution_count": 31,
   "metadata": {},
   "outputs": [],
   "source": [
    "import numpy as np\n",
    "import random\n",
    "import os\n",
    "import tensorflow as tf\n",
    "import matplotlib.pyplot as plt\n",
    "import pandas as pd"
   ]
  },
  {
   "cell_type": "code",
   "execution_count": 2,
   "metadata": {},
   "outputs": [],
   "source": [
    "os.environ[\"CUDA_VISIBLE_DEVICES\"]=\"0\"    "
   ]
  },
  {
   "cell_type": "code",
   "execution_count": 3,
   "metadata": {},
   "outputs": [],
   "source": [
    "dir_model=\"./results/Env2\"\n",
    "if not os.path.exists(dir_model):\n",
    "    os.makedirs(dir_model)"
   ]
  },
  {
   "cell_type": "code",
   "execution_count": 4,
   "metadata": {},
   "outputs": [],
   "source": [
    "data='wav44.npz'\n",
    "nFolds = 5\n",
    "n_classes = 50\n",
    "n_splits = 1\n",
    "input_length = 66650\n",
    "crop_size = 10"
   ]
  },
  {
   "cell_type": "markdown",
   "metadata": {},
   "source": [
    "# Dataset preparation"
   ]
  },
  {
   "cell_type": "markdown",
   "metadata": {},
   "source": [
    "Splitting the dataset into train & validation set"
   ]
  },
  {
   "cell_type": "code",
   "execution_count": 5,
   "metadata": {},
   "outputs": [],
   "source": [
    "def one_hot_encoding(labels):\n",
    "    b = np.zeros((len(labels), n_classes))\n",
    "    b[np.arange(len(labels)), labels] = 1\n",
    "    return b"
   ]
  },
  {
   "cell_type": "code",
   "execution_count": 6,
   "metadata": {},
   "outputs": [],
   "source": [
    "def setup(split):\n",
    "    dataset = np.load(os.path.join('.',data))\n",
    "    # Split to train and val\n",
    "    train_sounds = []\n",
    "    train_labels = []\n",
    "    val_sounds = []\n",
    "    val_labels = []\n",
    "    for i in range(1, nFolds + 1):\n",
    "        sounds = dataset['fold{}'.format(i)].item()['sounds']\n",
    "        labels = dataset['fold{}'.format(i)].item()['labels']\n",
    "        if i == split:\n",
    "            val_sounds.extend(sounds)\n",
    "            val_labels.extend(labels)\n",
    "        else:\n",
    "            train_sounds.extend(sounds)\n",
    "            train_labels.extend(labels)\n",
    "                  \n",
    "    train_labels= one_hot_encoding(train_labels)\n",
    "    val_labels= one_hot_encoding(val_labels)\n",
    "    \n",
    "    return train_sounds,train_labels, val_sounds,val_labels"
   ]
  },
  {
   "cell_type": "markdown",
   "metadata": {},
   "source": [
    "Normalize to have value between -1 and 1"
   ]
  },
  {
   "cell_type": "code",
   "execution_count": 7,
   "metadata": {},
   "outputs": [],
   "source": [
    "def normalize(sound, factor=32768):\n",
    "    return [s/factor for s in sound]"
   ]
  },
  {
   "cell_type": "markdown",
   "metadata": {},
   "source": [
    "Random crop of the sound values to have T-s window of sound"
   ]
  },
  {
   "cell_type": "code",
   "execution_count": 8,
   "metadata": {},
   "outputs": [],
   "source": [
    "def random_crop(sound, size=input_length):\n",
    "    cropped_sound=[]\n",
    "    for s in sound:\n",
    "        org_size = len(s)\n",
    "        start = random.randint(0, org_size - size)\n",
    "        cropped_s=s[start: start + size]\n",
    "        cropped_sound.append(cropped_s)\n",
    "    return cropped_sound"
   ]
  },
  {
   "cell_type": "code",
   "execution_count": 9,
   "metadata": {},
   "outputs": [],
   "source": [
    "def padding(sound, pad=input_length//2):\n",
    "    padded_sound=[]\n",
    "    for i in range(len(sound)):\n",
    "        padded_s=np.pad(sound[i], pad, 'constant')\n",
    "        padded_sound.append(padded_s)\n",
    "    return padded_sound"
   ]
  },
  {
   "cell_type": "markdown",
   "metadata": {},
   "source": [
    "Multi-crop for testing phase"
   ]
  },
  {
   "cell_type": "code",
   "execution_count": 10,
   "metadata": {},
   "outputs": [],
   "source": [
    "def multi_crop(sounds,input_length=input_length, n_crops=crop_size):\n",
    "    multi_cropped_sounds=[]\n",
    "    for s in sounds:\n",
    "        stride = (len(s) - input_length) // (n_crops - 1)\n",
    "        multi_cropped_sound = [s[stride * i: stride * i + input_length] for i in range(n_crops)]\n",
    "        multi_cropped_sounds.append(np.array(multi_cropped_sound))\n",
    "    return multi_cropped_sounds"
   ]
  },
  {
   "cell_type": "code",
   "execution_count": 11,
   "metadata": {},
   "outputs": [],
   "source": [
    "def random_scale(sounds,max_scale=1.25, interpolate='Linear'):\n",
    "    sounds_augmented=[]\n",
    "    for s in sounds:\n",
    "        scale = np.power(max_scale, random.uniform(-1, 1))\n",
    "        output_size = int(len(s) * scale)\n",
    "        ref = np.arange(output_size) / scale\n",
    "        if interpolate == 'Linear':\n",
    "            ref1 = ref.astype(np.int32)\n",
    "            ref2 = np.minimum(ref1 + 1, len(s) - 1)\n",
    "            r = ref - ref1\n",
    "            scaled_sound = s[ref1] * (1 - r) + s[ref2] * r\n",
    "        elif interpolate == 'Nearest':\n",
    "            scaled_sound = s[ref.astype(np.int32)]\n",
    "        else:\n",
    "            raise Exception('Invalid interpolation mode {}'.format(interpolate))\n",
    "\n",
    "        sounds_augmented.append(scaled_sound)\n",
    "    return sounds_augmented"
   ]
  },
  {
   "cell_type": "markdown",
   "metadata": {},
   "source": [
    "# Model"
   ]
  },
  {
   "cell_type": "markdown",
   "metadata": {},
   "source": [
    "## Input of the model"
   ]
  },
  {
   "cell_type": "markdown",
   "metadata": {},
   "source": [
    "Recall that the tensor is 4D : [batch, height, width, channel]"
   ]
  },
  {
   "cell_type": "code",
   "execution_count": 12,
   "metadata": {},
   "outputs": [],
   "source": [
    "tf.reset_default_graph()"
   ]
  },
  {
   "cell_type": "code",
   "execution_count": 13,
   "metadata": {},
   "outputs": [],
   "source": [
    "X = tf.placeholder(tf.float32, shape=[None, 66650,1, 1])\n",
    "y = tf.placeholder(tf.float32, shape=[None, n_classes])"
   ]
  },
  {
   "cell_type": "code",
   "execution_count": 14,
   "metadata": {},
   "outputs": [],
   "source": [
    "keep_prob = tf.placeholder(tf.float32) # 50%"
   ]
  },
  {
   "cell_type": "code",
   "execution_count": 15,
   "metadata": {},
   "outputs": [],
   "source": [
    "is_training = tf.placeholder(tf.bool)"
   ]
  },
  {
   "cell_type": "markdown",
   "metadata": {},
   "source": [
    "## Hyperparameters"
   ]
  },
  {
   "cell_type": "code",
   "execution_count": 16,
   "metadata": {},
   "outputs": [],
   "source": [
    "training_epoch = 1000 \n",
    "batch_size = 64\n",
    "max_nepoch_no_imprv = 7\n",
    "early_stopping = False\n",
    "learning_rate = tf.placeholder(tf.float32)"
   ]
  },
  {
   "cell_type": "markdown",
   "metadata": {},
   "source": [
    "Lr decay"
   ]
  },
  {
   "cell_type": "code",
   "execution_count": 17,
   "metadata": {},
   "outputs": [],
   "source": [
    "def lr(epoch):\n",
    "    if (0<=epoch<=300):\n",
    "        return 0.01\n",
    "    if (300<epoch<=600):\n",
    "        return 0.001\n",
    "    if (600<epoch):\n",
    "        return 0.0001\n",
    "    else: return 0.00001"
   ]
  },
  {
   "cell_type": "markdown",
   "metadata": {},
   "source": [
    "Stride =1\n",
    "\n",
    "No Padding"
   ]
  },
  {
   "cell_type": "code",
   "execution_count": 18,
   "metadata": {},
   "outputs": [],
   "source": [
    "def conv2d(x, W, b,is_training, s_h=1, s_w=1):\n",
    "    # Conv2D wrapper, with bias and relu activation\n",
    "    x = tf.nn.conv2d(x, W, strides=[1, s_h, s_w, 1], padding='VALID')\n",
    "    x = tf.nn.bias_add(x, b)\n",
    "    x = tf.contrib.layers.batch_norm(x, is_training=is_training)\n",
    "    return tf.nn.relu(x) \n",
    "\n",
    "def maxpool2d(x, k_h=2, k_w=2): #non-overlapping max-pooling\n",
    "    return tf.nn.max_pool(x, ksize=[1, k_h, k_w, 1], strides=[1, k_h, k_w, 1],padding='VALID')"
   ]
  },
  {
   "cell_type": "markdown",
   "metadata": {},
   "source": [
    "## Parameters of the model"
   ]
  },
  {
   "cell_type": "markdown",
   "metadata": {},
   "source": [
    "Initialization of the parameters = He initialization\n",
    "\n",
    "Review the order (does the order actually matters ?)"
   ]
  },
  {
   "cell_type": "markdown",
   "metadata": {},
   "source": [
    "[heigth_filter, width_filter, depth_filter, number of filters]"
   ]
  },
  {
   "cell_type": "code",
   "execution_count": 19,
   "metadata": {},
   "outputs": [],
   "source": [
    "weights = {\n",
    "    #conv1\n",
    "    'wc1': tf.get_variable('W0', shape=(64,1,1,32), initializer=tf.contrib.layers.variance_scaling_initializer(dtype=tf.float32)),\n",
    "    #conv2\n",
    "    'wc2': tf.get_variable('W1', shape=(16,1,32,64), initializer=tf.contrib.layers.variance_scaling_initializer(dtype=tf.float32)),\n",
    "    #conv3\n",
    "    'wc3': tf.get_variable('W2', shape=(8,8,1,32), initializer=tf.contrib.layers.variance_scaling_initializer(dtype=tf.float32)),\n",
    "    #conv4\n",
    "    'wc4': tf.get_variable('W3', shape=(8,8,32,32), initializer=tf.contrib.layers.variance_scaling_initializer(dtype=tf.float32)),\n",
    "    #conv5\n",
    "    'wc5': tf.get_variable('W4', shape=(4,1,32,64), initializer=tf.contrib.layers.variance_scaling_initializer(dtype=tf.float32)),\n",
    "    #conv6\n",
    "    'wc6': tf.get_variable('W5', shape=(4,1,64,64), initializer=tf.contrib.layers.variance_scaling_initializer(dtype=tf.float32)),\n",
    "    #conv7\n",
    "    'wc7': tf.get_variable('W6', shape=(2,1,64,128), initializer=tf.contrib.layers.variance_scaling_initializer(dtype=tf.float32)),\n",
    "    #conv8\n",
    "    'wc8': tf.get_variable('W7', shape=(2,1,128,128), initializer=tf.contrib.layers.variance_scaling_initializer(dtype=tf.float32)),\n",
    "    #conv9\n",
    "    'wc9': tf.get_variable('W8', shape=(2,1,128,256), initializer=tf.contrib.layers.variance_scaling_initializer(dtype=tf.float32)),\n",
    "    #conv10\n",
    "    'wc10': tf.get_variable('W9', shape=(2,1,256,256), initializer=tf.contrib.layers.variance_scaling_initializer(dtype=tf.float32)),\n",
    "    \n",
    "    \n",
    "    \n",
    "    \n",
    "    #fc11\n",
    "    'wfc11': tf.get_variable('W10', shape=(256*8*10,4096), initializer=tf.contrib.layers.variance_scaling_initializer(dtype=tf.float32)),\n",
    "    #fc12\n",
    "    'wfc12': tf.get_variable('W11', shape=(4096,4096), initializer=tf.contrib.layers.variance_scaling_initializer(dtype=tf.float32)),\n",
    "    #output\n",
    "    'out': tf.get_variable('W12', shape=(4096,n_classes), initializer=tf.contrib.layers.variance_scaling_initializer(dtype=tf.float32)), \n",
    "}\n",
    "biases = {\n",
    "    'bc1': tf.get_variable('B0', shape=(32), initializer=tf.contrib.layers.variance_scaling_initializer(dtype=tf.float32)),\n",
    "    'bc2': tf.get_variable('B1', shape=(64), initializer=tf.contrib.layers.variance_scaling_initializer(dtype=tf.float32)),\n",
    "    'bc3': tf.get_variable('B2', shape=(32), initializer=tf.contrib.layers.variance_scaling_initializer(dtype=tf.float32)),\n",
    "    'bc4': tf.get_variable('B3', shape=(32), initializer=tf.contrib.layers.variance_scaling_initializer(dtype=tf.float32)),\n",
    "    'bc5': tf.get_variable('B4', shape=(64), initializer=tf.contrib.layers.variance_scaling_initializer(dtype=tf.float32)),\n",
    "    'bc6': tf.get_variable('B5', shape=(64), initializer=tf.contrib.layers.variance_scaling_initializer(dtype=tf.float32)),\n",
    "    'bc7': tf.get_variable('B6', shape=(128), initializer=tf.contrib.layers.variance_scaling_initializer(dtype=tf.float32)),\n",
    "    'bc8': tf.get_variable('B7', shape=(128), initializer=tf.contrib.layers.variance_scaling_initializer(dtype=tf.float32)),\n",
    "    'bc9': tf.get_variable('B8', shape=(256), initializer=tf.contrib.layers.variance_scaling_initializer(dtype=tf.float32)),\n",
    "    'bc10': tf.get_variable('B9', shape=(256), initializer=tf.contrib.layers.variance_scaling_initializer(dtype=tf.float32)),\n",
    "    \n",
    "    'bfc11': tf.get_variable('B10', shape=(4096), initializer=tf.contrib.layers.variance_scaling_initializer(dtype=tf.float32)),\n",
    "    'bfc12': tf.get_variable('B11', shape=(4096), initializer=tf.contrib.layers.variance_scaling_initializer(dtype=tf.float32)),\n",
    "    'out': tf.get_variable('B12', shape=(n_classes), initializer=tf.contrib.layers.variance_scaling_initializer(dtype=tf.float32)),\n",
    "}"
   ]
  },
  {
   "cell_type": "markdown",
   "metadata": {},
   "source": [
    "## EnvNet"
   ]
  },
  {
   "cell_type": "code",
   "execution_count": 20,
   "metadata": {},
   "outputs": [],
   "source": [
    "def env_net(x, weights, biases):  \n",
    "\n",
    "    conv1 = conv2d(x, weights['wc1'], biases['bc1'], is_training,s_h=2, s_w=1)\n",
    "    \n",
    "    conv2 = conv2d(conv1, weights['wc2'], biases['bc2'], is_training,s_h=2, s_w=1)\n",
    "    pool2 = maxpool2d(conv2, k_h=64, k_w=1)\n",
    "    print(tf.shape(pool2))\n",
    "    \n",
    "    pool2=tf.reshape(pool2, [-1, 260, 64, 1])\n",
    "    \n",
    "    conv3 = conv2d(pool2, weights['wc3'], biases['bc3'], is_training)\n",
    "    conv4 = conv2d(conv3, weights['wc4'], biases['bc4'], is_training)\n",
    "    pool4 = maxpool2d(conv4, k_h=3, k_w=5)\n",
    "    \n",
    "    conv5 = conv2d(pool4, weights['wc5'], biases['bc5'], is_training)\n",
    "    conv6 = conv2d(conv5, weights['wc6'], biases['bc6'], is_training)\n",
    "    pool6 = maxpool2d(conv6, k_h=2, k_w=1)\n",
    "    \n",
    "    conv7 = conv2d(pool6, weights['wc7'], biases['bc7'], is_training)\n",
    "    conv8 = conv2d(conv7, weights['wc8'], biases['bc8'], is_training)\n",
    "    pool8 = maxpool2d(conv8, k_h=2, k_w=1)\n",
    "    \n",
    "    conv9 = conv2d(pool8, weights['wc9'], biases['bc9'], is_training)\n",
    "    conv10 = conv2d(conv9, weights['wc10'], biases['bc10'], is_training)\n",
    "    pool10 = maxpool2d(conv10, k_h=2, k_w=1)\n",
    "    \n",
    "    # Fully connected layer\n",
    "    fc11 = tf.reshape(pool10, [-1, weights['wfc11'].get_shape().as_list()[0]])\n",
    "    fc11 = tf.add(tf.matmul(fc11, weights['wfc11']), biases['bfc11'])\n",
    "    fc11 = tf.nn.relu(fc11)\n",
    "    # Drop out\n",
    "    drop_out_fc11 = tf.nn.dropout(fc11, keep_prob)\n",
    "    \n",
    "    fc12 = tf.add(tf.matmul(drop_out_fc11, weights['wfc12']), biases['bfc12'])\n",
    "    fc12 = tf.nn.relu(fc12)\n",
    "    drop_out_fc12 = tf.nn.dropout(fc12, keep_prob)\n",
    "    # Output, class prediction\n",
    "    # finally we multiply the fully connected layer with the weights and add a bias term. \n",
    "    out = tf.add(tf.matmul(drop_out_fc12, weights['out']), biases['out'])\n",
    "    return out"
   ]
  },
  {
   "cell_type": "markdown",
   "metadata": {},
   "source": [
    "## Loss & optimizer of the model"
   ]
  },
  {
   "cell_type": "code",
   "execution_count": 21,
   "metadata": {},
   "outputs": [],
   "source": [
    "init_momentum = 0.9\n",
    "momentum = tf.Variable(init_momentum, trainable=False)"
   ]
  },
  {
   "cell_type": "code",
   "execution_count": 22,
   "metadata": {},
   "outputs": [
    {
     "name": "stdout",
     "output_type": "stream",
     "text": [
      "Tensor(\"Shape:0\", shape=(4,), dtype=int32)\n"
     ]
    }
   ],
   "source": [
    "#beta=5e-4 \n",
    "\n",
    "logits = env_net(X, weights, biases)\n",
    "pred_train=logits\n",
    "\n",
    "cost = tf.reduce_mean(tf.nn.softmax_cross_entropy_with_logits_v2(logits=pred_train, labels=y))\n",
    "\n",
    "# regularizers = tf.nn.l2_loss(weights['wc1']) + tf.nn.l2_loss(weights['wc2']) + \\\n",
    "#                 tf.nn.l2_loss(weights['wc3']) + tf.nn.l2_loss(weights['wc4']) + \\\n",
    "#                 tf.nn.l2_loss(weights['wfc5']) + tf.nn.l2_loss(weights['wfc6']) + \\\n",
    "#                 tf.nn.l2_loss(weights['out'])\n",
    "\n",
    "# cost = tf.reduce_mean(cost + beta * regularizers)\n",
    "\n",
    "pred_test=tf.reduce_sum(tf.nn.softmax(logits),0)\n",
    "\n",
    "with tf.control_dependencies(tf.get_collection(tf.GraphKeys.UPDATE_OPS)):\n",
    "    optimizer = tf.train.MomentumOptimizer(learning_rate=learning_rate, momentum=0.9, use_nesterov=True).minimize(cost)"
   ]
  },
  {
   "cell_type": "code",
   "execution_count": 23,
   "metadata": {},
   "outputs": [],
   "source": [
    "#Here you check whether the index of the maximum value of the predicted image is equal to the actual labelled image. and both will be a column vector.\n",
    "#correct_prediction = tf.equal(tf.argmax(pred, 1), tf.argmax(y, 1))\n",
    "\n",
    "correct_prediction_train = tf.equal(tf.argmax(pred_train, 1), tf.argmax(y, 1))\n",
    "correct_prediction_test = tf.equal(tf.argmax(pred_test, 0), tf.argmax(y, 1)[0])\n",
    "\n",
    "#calculate accuracy across all the given images and average them out. \n",
    "accuracy_train = tf.reduce_mean(tf.cast(correct_prediction_train, tf.float32))\n",
    "accuracy_test=tf.cast(correct_prediction_test, tf.float32)"
   ]
  },
  {
   "cell_type": "code",
   "execution_count": 24,
   "metadata": {},
   "outputs": [],
   "source": [
    "def save_session(sess,saver,dir_model=\"./results\",filename=\"ESC_26\"):\n",
    "    if not os.path.exists(dir_model):\n",
    "        os.makedirs(dir_model)\n",
    "    saver.save(sess, os.path.join(dir_model,filename))"
   ]
  },
  {
   "cell_type": "code",
   "execution_count": 25,
   "metadata": {},
   "outputs": [],
   "source": [
    "# Initializing the variables\n",
    "init = tf.global_variables_initializer()"
   ]
  },
  {
   "cell_type": "markdown",
   "metadata": {},
   "source": [
    "Integrate the version of Perla"
   ]
  },
  {
   "cell_type": "code",
   "execution_count": 26,
   "metadata": {},
   "outputs": [],
   "source": [
    "def train(split,train_loss,train_accuracy,test_loss,test_accuracy):\n",
    "    train_sounds,train_y, val_sounds,val_labels=setup(split)\n",
    "    test_X=multi_crop(normalize(padding(val_sounds)))\n",
    "    test_X = np.reshape(test_X, (-1, input_length, 1, 1))\n",
    "    test_y=np.repeat(val_labels, 10, axis=0)\n",
    "    best_score = 0\n",
    "    for i in range(training_epoch):\n",
    "        train_X=random_crop(normalize(padding(random_scale(train_sounds))))  # Choosing randomly a 1.5s section\n",
    "        train_X = np.reshape(train_X, (-1, input_length, 1, 1)) # Reshape to have 1D input\n",
    "        for batch in range(len(train_X)//batch_size):\n",
    "            batch_x = train_X[batch*batch_size:min((batch+1)*batch_size,len(train_X))]\n",
    "            batch_y = train_y[batch*batch_size:min((batch+1)*batch_size,len(train_y))]    \n",
    "                # Run optimization op (backprop).\n",
    "                    # Calculate batch loss and accuracy\n",
    "            opt = sess.run(optimizer, feed_dict={X: batch_x, y: batch_y, \n",
    "                                                     keep_prob:0.5, is_training:True, \n",
    "                                                     learning_rate:lr(i)})\n",
    "            loss, acc = sess.run([cost, accuracy_train], feed_dict={X: batch_x, y: batch_y, \n",
    "                                                                     keep_prob:0.5, is_training:True,\n",
    "                                                                 learning_rate:lr(i)})\n",
    "\n",
    "        acc_test=[]\n",
    "        for crop in range(len(test_X)//crop_size):\n",
    "            crop_x = test_X[crop*crop_size:min((crop+1)*crop_size,len(test_X))]\n",
    "            crop_y = test_y[crop*crop_size:min((crop+1)*crop_size,len(test_y))] \n",
    "\n",
    "            acc_t= sess.run([accuracy_test], feed_dict={X: crop_x, y : crop_y, \n",
    "                                                                       keep_prob:1.0, is_training:False,\n",
    "                                                        learning_rate:lr(i)})\n",
    "            acc_test.append(acc_t)\n",
    "\n",
    "        test_acc=np.mean(acc_test)\n",
    "        #print(len(acc_test))\n",
    "\n",
    "        train_loss.append(loss)\n",
    "        #test_loss.append(valid_loss)\n",
    "        train_accuracy.append(acc)\n",
    "        test_accuracy.append(test_acc)\n",
    "        if i % 10 == 0:\n",
    "            print('| Epoch: {}/{} | Train: LR {}  Loss {:.6f} Training Accuracy : {:.3f} Testing Accuracy: {:.2f}\\n'.format(\n",
    "                        i, training_epoch, lr(i), train_loss[i],train_accuracy[i],test_accuracy[i]))\n",
    "        # early stopping and saving best parameters\n",
    "        if early_stopping :\n",
    "            if test_acc > best_score:\n",
    "                nepoch_no_imprv = 0\n",
    "                save_session(sess,saver,dir_model,filename=\"Env2\")\n",
    "                best_score = test_acc\n",
    "            elif test_acc == best_score:\n",
    "                nepoch_no_imprv += 1\n",
    "                if nepoch_no_imprv >= max_nepoch_no_imprv:\n",
    "                    print(\"- early stopping {} epochs without \"\\\n",
    "                          \"improvement\".format(nepoch_no_imprv))\n",
    "                    break\n",
    "        else :\n",
    "            save_session(sess,saver,dir_model,filename=\"Env2\")"
   ]
  },
  {
   "cell_type": "code",
   "execution_count": 27,
   "metadata": {
    "scrolled": false
   },
   "outputs": [
    {
     "name": "stdout",
     "output_type": "stream",
     "text": [
      "+-- Split 1 --+\n",
      "| Epoch: 0/1000 | Train: LR 0.01  Loss 3.941177 Training Accuracy : 0.016 Testing Accuracy: 0.02\n",
      "\n",
      "| Epoch: 10/1000 | Train: LR 0.01  Loss 3.622289 Training Accuracy : 0.078 Testing Accuracy: 0.02\n",
      "\n",
      "| Epoch: 20/1000 | Train: LR 0.01  Loss 3.242480 Training Accuracy : 0.125 Testing Accuracy: 0.02\n",
      "\n",
      "| Epoch: 30/1000 | Train: LR 0.01  Loss 2.675236 Training Accuracy : 0.203 Testing Accuracy: 0.04\n",
      "\n",
      "| Epoch: 40/1000 | Train: LR 0.01  Loss 2.561564 Training Accuracy : 0.281 Testing Accuracy: 0.03\n",
      "\n",
      "| Epoch: 50/1000 | Train: LR 0.01  Loss 2.306232 Training Accuracy : 0.359 Testing Accuracy: 0.02\n",
      "\n",
      "| Epoch: 60/1000 | Train: LR 0.01  Loss 2.269465 Training Accuracy : 0.359 Testing Accuracy: 0.03\n",
      "\n",
      "| Epoch: 70/1000 | Train: LR 0.01  Loss 1.887403 Training Accuracy : 0.438 Testing Accuracy: 0.03\n",
      "\n",
      "| Epoch: 80/1000 | Train: LR 0.01  Loss 1.653054 Training Accuracy : 0.469 Testing Accuracy: 0.03\n",
      "\n",
      "| Epoch: 90/1000 | Train: LR 0.01  Loss 1.751841 Training Accuracy : 0.438 Testing Accuracy: 0.06\n",
      "\n",
      "| Epoch: 100/1000 | Train: LR 0.01  Loss 1.634120 Training Accuracy : 0.594 Testing Accuracy: 0.12\n",
      "\n",
      "| Epoch: 110/1000 | Train: LR 0.01  Loss 1.356373 Training Accuracy : 0.531 Testing Accuracy: 0.09\n",
      "\n",
      "| Epoch: 120/1000 | Train: LR 0.01  Loss 1.584286 Training Accuracy : 0.578 Testing Accuracy: 0.09\n",
      "\n",
      "| Epoch: 130/1000 | Train: LR 0.01  Loss 1.102390 Training Accuracy : 0.781 Testing Accuracy: 0.14\n",
      "\n",
      "| Epoch: 140/1000 | Train: LR 0.01  Loss 1.540131 Training Accuracy : 0.641 Testing Accuracy: 0.32\n",
      "\n",
      "| Epoch: 150/1000 | Train: LR 0.01  Loss 1.206619 Training Accuracy : 0.609 Testing Accuracy: 0.31\n",
      "\n",
      "| Epoch: 160/1000 | Train: LR 0.01  Loss 0.827850 Training Accuracy : 0.734 Testing Accuracy: 0.26\n",
      "\n",
      "| Epoch: 170/1000 | Train: LR 0.01  Loss 0.954424 Training Accuracy : 0.734 Testing Accuracy: 0.29\n",
      "\n",
      "| Epoch: 180/1000 | Train: LR 0.01  Loss 1.061342 Training Accuracy : 0.703 Testing Accuracy: 0.33\n",
      "\n",
      "| Epoch: 190/1000 | Train: LR 0.01  Loss 0.609301 Training Accuracy : 0.797 Testing Accuracy: 0.39\n",
      "\n",
      "| Epoch: 200/1000 | Train: LR 0.01  Loss 1.047502 Training Accuracy : 0.703 Testing Accuracy: 0.40\n",
      "\n",
      "| Epoch: 210/1000 | Train: LR 0.01  Loss 0.696994 Training Accuracy : 0.797 Testing Accuracy: 0.42\n",
      "\n",
      "| Epoch: 220/1000 | Train: LR 0.01  Loss 0.405941 Training Accuracy : 0.891 Testing Accuracy: 0.46\n",
      "\n",
      "| Epoch: 230/1000 | Train: LR 0.01  Loss 0.557953 Training Accuracy : 0.844 Testing Accuracy: 0.46\n",
      "\n",
      "| Epoch: 240/1000 | Train: LR 0.01  Loss 0.437341 Training Accuracy : 0.875 Testing Accuracy: 0.53\n",
      "\n",
      "| Epoch: 250/1000 | Train: LR 0.01  Loss 0.378667 Training Accuracy : 0.891 Testing Accuracy: 0.51\n",
      "\n",
      "| Epoch: 260/1000 | Train: LR 0.01  Loss 0.407207 Training Accuracy : 0.875 Testing Accuracy: 0.56\n",
      "\n",
      "| Epoch: 270/1000 | Train: LR 0.01  Loss 0.780147 Training Accuracy : 0.797 Testing Accuracy: 0.56\n",
      "\n",
      "| Epoch: 280/1000 | Train: LR 0.01  Loss 0.418671 Training Accuracy : 0.859 Testing Accuracy: 0.59\n",
      "\n",
      "| Epoch: 290/1000 | Train: LR 0.01  Loss 0.309147 Training Accuracy : 0.922 Testing Accuracy: 0.63\n",
      "\n",
      "| Epoch: 300/1000 | Train: LR 0.01  Loss 0.306994 Training Accuracy : 0.938 Testing Accuracy: 0.57\n",
      "\n",
      "| Epoch: 310/1000 | Train: LR 0.001  Loss 0.253864 Training Accuracy : 0.922 Testing Accuracy: 0.64\n",
      "\n",
      "| Epoch: 320/1000 | Train: LR 0.001  Loss 0.312864 Training Accuracy : 0.875 Testing Accuracy: 0.65\n",
      "\n",
      "| Epoch: 330/1000 | Train: LR 0.001  Loss 0.489534 Training Accuracy : 0.859 Testing Accuracy: 0.64\n",
      "\n",
      "| Epoch: 340/1000 | Train: LR 0.001  Loss 0.302715 Training Accuracy : 0.906 Testing Accuracy: 0.67\n",
      "\n",
      "| Epoch: 350/1000 | Train: LR 0.001  Loss 0.205550 Training Accuracy : 0.938 Testing Accuracy: 0.68\n",
      "\n",
      "| Epoch: 360/1000 | Train: LR 0.001  Loss 0.255884 Training Accuracy : 0.906 Testing Accuracy: 0.67\n",
      "\n",
      "| Epoch: 370/1000 | Train: LR 0.001  Loss 0.382140 Training Accuracy : 0.922 Testing Accuracy: 0.68\n",
      "\n",
      "| Epoch: 380/1000 | Train: LR 0.001  Loss 0.313237 Training Accuracy : 0.875 Testing Accuracy: 0.68\n",
      "\n",
      "| Epoch: 390/1000 | Train: LR 0.001  Loss 0.179482 Training Accuracy : 0.953 Testing Accuracy: 0.67\n",
      "\n",
      "| Epoch: 400/1000 | Train: LR 0.001  Loss 0.320426 Training Accuracy : 0.906 Testing Accuracy: 0.65\n",
      "\n",
      "| Epoch: 410/1000 | Train: LR 0.001  Loss 0.296178 Training Accuracy : 0.891 Testing Accuracy: 0.67\n",
      "\n",
      "| Epoch: 420/1000 | Train: LR 0.001  Loss 0.242626 Training Accuracy : 0.891 Testing Accuracy: 0.67\n",
      "\n",
      "| Epoch: 430/1000 | Train: LR 0.001  Loss 0.144288 Training Accuracy : 0.969 Testing Accuracy: 0.64\n",
      "\n",
      "| Epoch: 440/1000 | Train: LR 0.001  Loss 0.212310 Training Accuracy : 0.891 Testing Accuracy: 0.66\n",
      "\n",
      "| Epoch: 450/1000 | Train: LR 0.001  Loss 0.138121 Training Accuracy : 0.984 Testing Accuracy: 0.68\n",
      "\n",
      "| Epoch: 460/1000 | Train: LR 0.001  Loss 0.142580 Training Accuracy : 0.938 Testing Accuracy: 0.66\n",
      "\n",
      "| Epoch: 470/1000 | Train: LR 0.001  Loss 0.269266 Training Accuracy : 0.922 Testing Accuracy: 0.67\n",
      "\n",
      "| Epoch: 480/1000 | Train: LR 0.001  Loss 0.380798 Training Accuracy : 0.875 Testing Accuracy: 0.68\n",
      "\n",
      "| Epoch: 490/1000 | Train: LR 0.001  Loss 0.218242 Training Accuracy : 0.906 Testing Accuracy: 0.66\n",
      "\n",
      "| Epoch: 500/1000 | Train: LR 0.001  Loss 0.162939 Training Accuracy : 0.938 Testing Accuracy: 0.67\n",
      "\n",
      "| Epoch: 510/1000 | Train: LR 0.001  Loss 0.148365 Training Accuracy : 0.969 Testing Accuracy: 0.66\n",
      "\n",
      "| Epoch: 520/1000 | Train: LR 0.001  Loss 0.105303 Training Accuracy : 0.969 Testing Accuracy: 0.67\n",
      "\n",
      "| Epoch: 530/1000 | Train: LR 0.001  Loss 0.181102 Training Accuracy : 0.938 Testing Accuracy: 0.67\n",
      "\n",
      "| Epoch: 540/1000 | Train: LR 0.001  Loss 0.057098 Training Accuracy : 1.000 Testing Accuracy: 0.67\n",
      "\n",
      "| Epoch: 550/1000 | Train: LR 0.001  Loss 0.255927 Training Accuracy : 0.922 Testing Accuracy: 0.66\n",
      "\n",
      "| Epoch: 560/1000 | Train: LR 0.001  Loss 0.045927 Training Accuracy : 1.000 Testing Accuracy: 0.66\n",
      "\n"
     ]
    },
    {
     "ename": "KeyboardInterrupt",
     "evalue": "",
     "output_type": "error",
     "traceback": [
      "\u001b[0;31m---------------------------------------------------------------------------\u001b[0m",
      "\u001b[0;31mKeyboardInterrupt\u001b[0m                         Traceback (most recent call last)",
      "\u001b[0;32m<ipython-input-27-02f6dab091fd>\u001b[0m in \u001b[0;36m<module>\u001b[0;34m\u001b[0m\n\u001b[1;32m     11\u001b[0m     \u001b[0;32mfor\u001b[0m \u001b[0msplit\u001b[0m \u001b[0;32min\u001b[0m \u001b[0mrange\u001b[0m\u001b[0;34m(\u001b[0m\u001b[0;36m1\u001b[0m\u001b[0;34m,\u001b[0m\u001b[0mn_splits\u001b[0m\u001b[0;34m+\u001b[0m\u001b[0;36m1\u001b[0m\u001b[0;34m)\u001b[0m\u001b[0;34m:\u001b[0m\u001b[0;34m\u001b[0m\u001b[0m\n\u001b[1;32m     12\u001b[0m         \u001b[0mprint\u001b[0m\u001b[0;34m(\u001b[0m\u001b[0;34m'+-- Split {} --+'\u001b[0m\u001b[0;34m.\u001b[0m\u001b[0mformat\u001b[0m\u001b[0;34m(\u001b[0m\u001b[0msplit\u001b[0m\u001b[0;34m)\u001b[0m\u001b[0;34m)\u001b[0m\u001b[0;34m\u001b[0m\u001b[0m\n\u001b[0;32m---> 13\u001b[0;31m         \u001b[0mtrain\u001b[0m\u001b[0;34m(\u001b[0m\u001b[0msplit\u001b[0m\u001b[0;34m,\u001b[0m\u001b[0mtrain_loss\u001b[0m\u001b[0;34m[\u001b[0m\u001b[0msplit\u001b[0m\u001b[0;34m-\u001b[0m\u001b[0;36m1\u001b[0m\u001b[0;34m]\u001b[0m\u001b[0;34m,\u001b[0m\u001b[0mtrain_accuracy\u001b[0m\u001b[0;34m[\u001b[0m\u001b[0msplit\u001b[0m\u001b[0;34m-\u001b[0m\u001b[0;36m1\u001b[0m\u001b[0;34m]\u001b[0m\u001b[0;34m,\u001b[0m\u001b[0mtest_loss\u001b[0m\u001b[0;34m[\u001b[0m\u001b[0msplit\u001b[0m\u001b[0;34m-\u001b[0m\u001b[0;36m1\u001b[0m\u001b[0;34m]\u001b[0m\u001b[0;34m,\u001b[0m\u001b[0mtest_accuracy\u001b[0m\u001b[0;34m[\u001b[0m\u001b[0msplit\u001b[0m\u001b[0;34m-\u001b[0m\u001b[0;36m1\u001b[0m\u001b[0;34m]\u001b[0m\u001b[0;34m)\u001b[0m\u001b[0;34m\u001b[0m\u001b[0m\n\u001b[0m\u001b[1;32m     14\u001b[0m     \u001b[0msummary_writer\u001b[0m\u001b[0;34m.\u001b[0m\u001b[0mclose\u001b[0m\u001b[0;34m(\u001b[0m\u001b[0;34m)\u001b[0m\u001b[0;34m\u001b[0m\u001b[0m\n",
      "\u001b[0;32m<ipython-input-26-3807915c8f61>\u001b[0m in \u001b[0;36mtrain\u001b[0;34m(split, train_loss, train_accuracy, test_loss, test_accuracy)\u001b[0m\n\u001b[1;32m     27\u001b[0m             acc_t= sess.run([accuracy_test], feed_dict={X: crop_x, y : crop_y, \n\u001b[1;32m     28\u001b[0m                                                                        \u001b[0mkeep_prob\u001b[0m\u001b[0;34m:\u001b[0m\u001b[0;36m1.0\u001b[0m\u001b[0;34m,\u001b[0m \u001b[0mis_training\u001b[0m\u001b[0;34m:\u001b[0m\u001b[0;32mFalse\u001b[0m\u001b[0;34m,\u001b[0m\u001b[0;34m\u001b[0m\u001b[0m\n\u001b[0;32m---> 29\u001b[0;31m                                                         learning_rate:lr(i)})\n\u001b[0m\u001b[1;32m     30\u001b[0m             \u001b[0macc_test\u001b[0m\u001b[0;34m.\u001b[0m\u001b[0mappend\u001b[0m\u001b[0;34m(\u001b[0m\u001b[0macc_t\u001b[0m\u001b[0;34m)\u001b[0m\u001b[0;34m\u001b[0m\u001b[0m\n\u001b[1;32m     31\u001b[0m \u001b[0;34m\u001b[0m\u001b[0m\n",
      "\u001b[0;32m/home/dl5/venv10/lib/python3.5/site-packages/tensorflow/python/client/session.py\u001b[0m in \u001b[0;36mrun\u001b[0;34m(self, fetches, feed_dict, options, run_metadata)\u001b[0m\n\u001b[1;32m    927\u001b[0m     \u001b[0;32mtry\u001b[0m\u001b[0;34m:\u001b[0m\u001b[0;34m\u001b[0m\u001b[0m\n\u001b[1;32m    928\u001b[0m       result = self._run(None, fetches, feed_dict, options_ptr,\n\u001b[0;32m--> 929\u001b[0;31m                          run_metadata_ptr)\n\u001b[0m\u001b[1;32m    930\u001b[0m       \u001b[0;32mif\u001b[0m \u001b[0mrun_metadata\u001b[0m\u001b[0;34m:\u001b[0m\u001b[0;34m\u001b[0m\u001b[0m\n\u001b[1;32m    931\u001b[0m         \u001b[0mproto_data\u001b[0m \u001b[0;34m=\u001b[0m \u001b[0mtf_session\u001b[0m\u001b[0;34m.\u001b[0m\u001b[0mTF_GetBuffer\u001b[0m\u001b[0;34m(\u001b[0m\u001b[0mrun_metadata_ptr\u001b[0m\u001b[0;34m)\u001b[0m\u001b[0;34m\u001b[0m\u001b[0m\n",
      "\u001b[0;32m/home/dl5/venv10/lib/python3.5/site-packages/tensorflow/python/client/session.py\u001b[0m in \u001b[0;36m_run\u001b[0;34m(self, handle, fetches, feed_dict, options, run_metadata)\u001b[0m\n\u001b[1;32m   1150\u001b[0m     \u001b[0;32mif\u001b[0m \u001b[0mfinal_fetches\u001b[0m \u001b[0;32mor\u001b[0m \u001b[0mfinal_targets\u001b[0m \u001b[0;32mor\u001b[0m \u001b[0;34m(\u001b[0m\u001b[0mhandle\u001b[0m \u001b[0;32mand\u001b[0m \u001b[0mfeed_dict_tensor\u001b[0m\u001b[0;34m)\u001b[0m\u001b[0;34m:\u001b[0m\u001b[0;34m\u001b[0m\u001b[0m\n\u001b[1;32m   1151\u001b[0m       results = self._do_run(handle, final_targets, final_fetches,\n\u001b[0;32m-> 1152\u001b[0;31m                              feed_dict_tensor, options, run_metadata)\n\u001b[0m\u001b[1;32m   1153\u001b[0m     \u001b[0;32melse\u001b[0m\u001b[0;34m:\u001b[0m\u001b[0;34m\u001b[0m\u001b[0m\n\u001b[1;32m   1154\u001b[0m       \u001b[0mresults\u001b[0m \u001b[0;34m=\u001b[0m \u001b[0;34m[\u001b[0m\u001b[0;34m]\u001b[0m\u001b[0;34m\u001b[0m\u001b[0m\n",
      "\u001b[0;32m/home/dl5/venv10/lib/python3.5/site-packages/tensorflow/python/client/session.py\u001b[0m in \u001b[0;36m_do_run\u001b[0;34m(self, handle, target_list, fetch_list, feed_dict, options, run_metadata)\u001b[0m\n\u001b[1;32m   1326\u001b[0m     \u001b[0;32mif\u001b[0m \u001b[0mhandle\u001b[0m \u001b[0;32mis\u001b[0m \u001b[0;32mNone\u001b[0m\u001b[0;34m:\u001b[0m\u001b[0;34m\u001b[0m\u001b[0m\n\u001b[1;32m   1327\u001b[0m       return self._do_call(_run_fn, feeds, fetches, targets, options,\n\u001b[0;32m-> 1328\u001b[0;31m                            run_metadata)\n\u001b[0m\u001b[1;32m   1329\u001b[0m     \u001b[0;32melse\u001b[0m\u001b[0;34m:\u001b[0m\u001b[0;34m\u001b[0m\u001b[0m\n\u001b[1;32m   1330\u001b[0m       \u001b[0;32mreturn\u001b[0m \u001b[0mself\u001b[0m\u001b[0;34m.\u001b[0m\u001b[0m_do_call\u001b[0m\u001b[0;34m(\u001b[0m\u001b[0m_prun_fn\u001b[0m\u001b[0;34m,\u001b[0m \u001b[0mhandle\u001b[0m\u001b[0;34m,\u001b[0m \u001b[0mfeeds\u001b[0m\u001b[0;34m,\u001b[0m \u001b[0mfetches\u001b[0m\u001b[0;34m)\u001b[0m\u001b[0;34m\u001b[0m\u001b[0m\n",
      "\u001b[0;32m/home/dl5/venv10/lib/python3.5/site-packages/tensorflow/python/client/session.py\u001b[0m in \u001b[0;36m_do_call\u001b[0;34m(self, fn, *args)\u001b[0m\n\u001b[1;32m   1332\u001b[0m   \u001b[0;32mdef\u001b[0m \u001b[0m_do_call\u001b[0m\u001b[0;34m(\u001b[0m\u001b[0mself\u001b[0m\u001b[0;34m,\u001b[0m \u001b[0mfn\u001b[0m\u001b[0;34m,\u001b[0m \u001b[0;34m*\u001b[0m\u001b[0margs\u001b[0m\u001b[0;34m)\u001b[0m\u001b[0;34m:\u001b[0m\u001b[0;34m\u001b[0m\u001b[0m\n\u001b[1;32m   1333\u001b[0m     \u001b[0;32mtry\u001b[0m\u001b[0;34m:\u001b[0m\u001b[0;34m\u001b[0m\u001b[0m\n\u001b[0;32m-> 1334\u001b[0;31m       \u001b[0;32mreturn\u001b[0m \u001b[0mfn\u001b[0m\u001b[0;34m(\u001b[0m\u001b[0;34m*\u001b[0m\u001b[0margs\u001b[0m\u001b[0;34m)\u001b[0m\u001b[0;34m\u001b[0m\u001b[0m\n\u001b[0m\u001b[1;32m   1335\u001b[0m     \u001b[0;32mexcept\u001b[0m \u001b[0merrors\u001b[0m\u001b[0;34m.\u001b[0m\u001b[0mOpError\u001b[0m \u001b[0;32mas\u001b[0m \u001b[0me\u001b[0m\u001b[0;34m:\u001b[0m\u001b[0;34m\u001b[0m\u001b[0m\n\u001b[1;32m   1336\u001b[0m       \u001b[0mmessage\u001b[0m \u001b[0;34m=\u001b[0m \u001b[0mcompat\u001b[0m\u001b[0;34m.\u001b[0m\u001b[0mas_text\u001b[0m\u001b[0;34m(\u001b[0m\u001b[0me\u001b[0m\u001b[0;34m.\u001b[0m\u001b[0mmessage\u001b[0m\u001b[0;34m)\u001b[0m\u001b[0;34m\u001b[0m\u001b[0m\n",
      "\u001b[0;32m/home/dl5/venv10/lib/python3.5/site-packages/tensorflow/python/client/session.py\u001b[0m in \u001b[0;36m_run_fn\u001b[0;34m(feed_dict, fetch_list, target_list, options, run_metadata)\u001b[0m\n\u001b[1;32m   1317\u001b[0m       \u001b[0mself\u001b[0m\u001b[0;34m.\u001b[0m\u001b[0m_extend_graph\u001b[0m\u001b[0;34m(\u001b[0m\u001b[0;34m)\u001b[0m\u001b[0;34m\u001b[0m\u001b[0m\n\u001b[1;32m   1318\u001b[0m       return self._call_tf_sessionrun(\n\u001b[0;32m-> 1319\u001b[0;31m           options, feed_dict, fetch_list, target_list, run_metadata)\n\u001b[0m\u001b[1;32m   1320\u001b[0m \u001b[0;34m\u001b[0m\u001b[0m\n\u001b[1;32m   1321\u001b[0m     \u001b[0;32mdef\u001b[0m \u001b[0m_prun_fn\u001b[0m\u001b[0;34m(\u001b[0m\u001b[0mhandle\u001b[0m\u001b[0;34m,\u001b[0m \u001b[0mfeed_dict\u001b[0m\u001b[0;34m,\u001b[0m \u001b[0mfetch_list\u001b[0m\u001b[0;34m)\u001b[0m\u001b[0;34m:\u001b[0m\u001b[0;34m\u001b[0m\u001b[0m\n",
      "\u001b[0;32m/home/dl5/venv10/lib/python3.5/site-packages/tensorflow/python/client/session.py\u001b[0m in \u001b[0;36m_call_tf_sessionrun\u001b[0;34m(self, options, feed_dict, fetch_list, target_list, run_metadata)\u001b[0m\n\u001b[1;32m   1405\u001b[0m     return tf_session.TF_SessionRun_wrapper(\n\u001b[1;32m   1406\u001b[0m         \u001b[0mself\u001b[0m\u001b[0;34m.\u001b[0m\u001b[0m_session\u001b[0m\u001b[0;34m,\u001b[0m \u001b[0moptions\u001b[0m\u001b[0;34m,\u001b[0m \u001b[0mfeed_dict\u001b[0m\u001b[0;34m,\u001b[0m \u001b[0mfetch_list\u001b[0m\u001b[0;34m,\u001b[0m \u001b[0mtarget_list\u001b[0m\u001b[0;34m,\u001b[0m\u001b[0;34m\u001b[0m\u001b[0m\n\u001b[0;32m-> 1407\u001b[0;31m         run_metadata)\n\u001b[0m\u001b[1;32m   1408\u001b[0m \u001b[0;34m\u001b[0m\u001b[0m\n\u001b[1;32m   1409\u001b[0m   \u001b[0;32mdef\u001b[0m \u001b[0m_call_tf_sessionprun\u001b[0m\u001b[0;34m(\u001b[0m\u001b[0mself\u001b[0m\u001b[0;34m,\u001b[0m \u001b[0mhandle\u001b[0m\u001b[0;34m,\u001b[0m \u001b[0mfeed_dict\u001b[0m\u001b[0;34m,\u001b[0m \u001b[0mfetch_list\u001b[0m\u001b[0;34m)\u001b[0m\u001b[0;34m:\u001b[0m\u001b[0;34m\u001b[0m\u001b[0m\n",
      "\u001b[0;31mKeyboardInterrupt\u001b[0m: "
     ]
    }
   ],
   "source": [
    "saver = tf.train.Saver(tf.global_variables())\n",
    "config = tf.ConfigProto()\n",
    "config.gpu_options.allow_growth = True\n",
    "with tf.Session(config=config) as sess:\n",
    "    sess.run(init) \n",
    "    train_loss = [ [] for i in range(n_splits) ]\n",
    "    train_accuracy = [ [] for i in range(n_splits) ]\n",
    "    test_loss = [ [] for i in range(n_splits) ]\n",
    "    test_accuracy = [ [] for i in range(n_splits) ]\n",
    "    summary_writer = tf.summary.FileWriter('./Output', sess.graph)\n",
    "    for split in range(1,n_splits+1):\n",
    "        print('+-- Split {} --+'.format(split))\n",
    "        train(split,train_loss[split-1],train_accuracy[split-1],test_loss[split-1],test_accuracy[split-1])            \n",
    "    summary_writer.close()"
   ]
  },
  {
   "cell_type": "code",
   "execution_count": 35,
   "metadata": {},
   "outputs": [
    {
     "data": {
      "image/png": "[encoded data removed]",
      "text/plain": [
       "<Figure size 432x288 with 1 Axes>"
      ]
     },
     "metadata": {
      "needs_background": "light"
     },
     "output_type": "display_data"
    }
   ],
   "source": [
    "fig, ax = plt.subplots()\n",
    "ax.plot(train_accuracy[0],label='train_accuracy')\n",
    "ax.plot(test_accuracy[0],label='test_accuracy')\n",
    "plt.xlabel('n_iter', fontsize=16)\n",
    "plt.ylabel('accuracy', fontsize=16)\n",
    "legend = ax.legend(loc='lower right', shadow=True, fontsize='x-large')\n",
    "# Put a nicer background color on the legend.\n",
    "legend.get_frame().set_facecolor('C2')\n",
    "plt.savefig(os.path.join(dir_model,\"evol_accuracy\"))"
   ]
  },
  {
   "cell_type": "code",
   "execution_count": null,
   "metadata": {},
   "outputs": [],
   "source": [
    "tf.reset_default_graph()"
   ]
  },
  {
   "cell_type": "markdown",
   "metadata": {},
   "source": [
    "Version with mean"
   ]
  },
  {
   "cell_type": "code",
   "execution_count": 36,
   "metadata": {},
   "outputs": [],
   "source": [
    "# def train(split,train_loss,train_accuracy,test_loss,test_accuracy):\n",
    "#     train_sounds,train_y, val_sounds,test_y=setup(split)\n",
    "#     for i in range(training_epoch):\n",
    "#         train_X=random_crop(normalize(padding(random_scale(train_sounds)))) # Choosing randomly a 1.5s section\n",
    "#         train_X = np.reshape(train_X, (-1, 24014, 1, 1)) # Reshape to have 1D input\n",
    "#         test_X=random_crop(normalize(padding(val_sounds)))\n",
    "#         test_X = np.reshape(test_X, (-1, 24014, 1, 1))\n",
    "#         loss_by_epoch=0\n",
    "#         acc_by_epoch=0\n",
    "#         for batch in range(len(train_X)//batch_size):\n",
    "#             batch_x = train_X[batch*batch_size:min((batch+1)*batch_size,len(train_X))]\n",
    "#             batch_y = train_y[batch*batch_size:min((batch+1)*batch_size,len(train_y))]    \n",
    "#             # Run optimization op (backprop).\n",
    "#             # Calculate batch loss and accuracy\n",
    "#             opt = sess.run(optimizer, feed_dict={X: batch_x, y: batch_y, \n",
    "#                                                      keep_prob:0.5, is_training:True, \n",
    "#                                                      learning_rate:lr(i)})\n",
    "#             loss, acc = sess.run([cost, accuracy], feed_dict={X: batch_x, y: batch_y, \n",
    "#                                                                      keep_prob:0.5, is_training:True,\n",
    "#                                                                  learning_rate:lr(i)})\n",
    "#             loss_by_epoch+=loss*len(batch_y)\n",
    "#             acc_by_epoch+=acc*len(batch_y)\n",
    "#         loss_by_epoch/= len(train_y)\n",
    "#         train_loss.append(loss_by_epoch)\n",
    "        \n",
    "#         acc_by_epoch = 100 * (acc_by_epoch / len(train_y))\n",
    "#         train_accuracy.append(acc_by_epoch)\n",
    "        \n",
    "#         loss_acc,test_acc = sess.run([cost,accuracy], feed_dict={X: test_X, y : test_y, \n",
    "#                                                                         keep_prob:1.0, is_training:False,\n",
    "#                                                                         learning_rate:lr(i)})\n",
    "#         test_accuracy.append(test_acc*100)\n",
    "#         test_loss.append(loss_acc*100)\n",
    "#         if i % 10 == 0 or i == training_epoch-1:\n",
    "#             print('| Epoch: {}/{} | Train: LR {}  Loss {:.6f} Training Accuracy : {:.3f} Testing Accuracy: {:.2f}\\n'.format(\n",
    "#                         i+1, training_epoch, lr(i), train_loss[i],train_accuracy[i],test_accuracy[i]))"
   ]
  },
  {
   "cell_type": "markdown",
   "metadata": {},
   "source": [
    "Cross-validation"
   ]
  },
  {
   "cell_type": "code",
   "execution_count": 37,
   "metadata": {},
   "outputs": [],
   "source": [
    "# with tf.device(\"/gpu:1\"):\n",
    "#     with tf.Session() as sess:\n",
    "#         sess.run(init) \n",
    "#         train_loss = [ [] for i in range(nFolds) ]\n",
    "#         train_accuracy = [ [] for i in range(nFolds) ]\n",
    "#         test_accuracy = [ [] for i in range(nFolds) ]\n",
    "#         summary_writer = tf.summary.FileWriter('./Output', sess.graph)\n",
    "#         for split in range(1,nFolds+1):\n",
    "#             print('+-- Split {} --+'.format(split))\n",
    "#             train(split,train_loss[split-1],train_accuracy[split-1],test_accuracy[split-1])            \n",
    "#         summary_writer.close()"
   ]
  },
  {
   "cell_type": "markdown",
   "metadata": {},
   "source": [
    "TO DO : \n",
    "- looks like it's overfitting (check if drop out is working)\n",
    "- look if there is a bug somewhere\n",
    "- look padding function ? what is the use ?\n",
    "- maybe a problem with the testing phase ? what is multi_crop function ?\n",
    "- Accuracy for now : 0.2950 (with my dataset), 0.35750 (with their dataset)\n",
    "- why is training accuracy low ?\n",
    "- check for silent windows -> remove them"
   ]
  }
 ],
 "metadata": {
  "kernelspec": {
   "display_name": "Python 3",
   "language": "python",
   "name": "python3"
  },
  "language_info": {
   "codemirror_mode": {
    "name": "ipython",
    "version": 3
   },
   "file_extension": ".py",
   "mimetype": "text/x-python",
   "name": "python",
   "nbconvert_exporter": "python",
   "pygments_lexer": "ipython3",
   "version": "3.5.2"
  }
 },
 "nbformat": 4,
 "nbformat_minor": 2
}
